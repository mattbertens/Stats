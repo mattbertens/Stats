{
  "nbformat": 4,
  "nbformat_minor": 0,
  "metadata": {
    "colab": {
      "provenance": [],
      "authorship_tag": "ABX9TyMGkla7lYGLfnqfvQhuvB8c",
      "include_colab_link": true
    },
    "kernelspec": {
      "name": "python3",
      "display_name": "Python 3"
    },
    "language_info": {
      "name": "python"
    }
  },
  "cells": [
    {
      "cell_type": "markdown",
      "metadata": {
        "id": "view-in-github",
        "colab_type": "text"
      },
      "source": [
        "<a href=\"https://colab.research.google.com/github/mattbertens/Stats/blob/main/Simulate_Sampling_Variability_and_COVID.ipynb\" target=\"_parent\"><img src=\"https://colab.research.google.com/assets/colab-badge.svg\" alt=\"Open In Colab\"/></a>"
      ]
    },
    {
      "cell_type": "markdown",
      "source": [
        "Module by Matt Bertens\n"
      ],
      "metadata": {
        "id": "oxOIxMDGkhax"
      }
    },
    {
      "cell_type": "markdown",
      "source": [
        "**Important for extra credit!** Any changes you make to this won't be saved. To make changes that will be saved, select 'File', then 'Save a Copy in Drive'. You will be able to make changes to that copy you just created. "
      ],
      "metadata": {
        "id": "HIRN6rycuLJl"
      }
    },
    {
      "cell_type": "markdown",
      "source": [
        "What does sampling variability look like?\n",
        "In this notebook we'll look at 50 samples of size 20 taken from a population where the population proportion is 40% (p=0.40) .\n",
        "To begin we need to load some Python programs. Click the arrow in the brackets in the cell below to run it (hover your cursor over it and an arrow will magically appear). After you click the arrow, it runs and then a green check mark will appear when finished."
      ],
      "metadata": {
        "id": "q4XGWJIUOxM5"
      }
    },
    {
      "cell_type": "code",
      "execution_count": 1,
      "metadata": {
        "id": "UlA1V7KeFpqZ"
      },
      "outputs": [],
      "source": [
        "from scipy.stats import bernoulli\n",
        "import matplotlib.pyplot as plt\n",
        "import numpy as np\n",
        "import pandas as pd\n",
        "import seaborn as sns\n",
        "import IPython.display\n",
        "from IPython.display import Image"
      ]
    },
    {
      "cell_type": "markdown",
      "source": [
        "Click the below arrow to find one random sample proportion taken from a population with proportion 40% . Let's say we have a measure on a ballot where it is known that 40% of the population support it. Below we'll take a random sample of size 20 (20 people) from that population and see what percentage (what proportion) of those people support the ballot measure. An entry of '1' means that person voted in favor and an entry of '0' means that person voted against."
      ],
      "metadata": {
        "id": "Vgr1grEDP7e0"
      }
    },
    {
      "cell_type": "code",
      "source": [
        "# Introduction to bernoulli function, which give an array of 1's and 0's with a specified odds of getting 1 (0.4 below)\n",
        "# like polling 20 people, 1 for yes and 0 for no. \n",
        "y=bernoulli.rvs(p=0.4, size=20)\n",
        "print('Here are the results of the 20 people surveyed (with 1 for yes and 0 for no):', y)\n",
        "# to get % of yes (sample proportion) count number of yesses which is the same as summing the array since only 1's and 0's, then divide by 20\n",
        "print('sample proportion (proportion of yesses in sample) is:', (sum(y)/20))\n",
        "print('population proportion (proportion of yesses in population) is: 0.40')"
      ],
      "metadata": {
        "colab": {
          "base_uri": "https://localhost:8080/"
        },
        "id": "DaHUcCCiFvJE",
        "outputId": "8fb0de34-68bc-4c80-f1b8-d2ddb321a10d"
      },
      "execution_count": 3,
      "outputs": [
        {
          "output_type": "stream",
          "name": "stdout",
          "text": [
            "Here are the results of the 20 people surveyed (with 1 for yes and 0 for no): [1 0 0 0 0 0 0 0 1 0 1 0 0 0 0 1 0 0 0 0]\n",
            "sample proportion (proportion of yesses in sample) is: 0.2\n",
            "population proportion (proportion of yesses in population) is: 0.40\n"
          ]
        }
      ]
    },
    {
      "cell_type": "markdown",
      "source": [
        "How close was the sample proportion to the underlying population proportion, which was 40%? Run the above a few more times, to get an idea of the sampling variability that arises."
      ],
      "metadata": {
        "id": "3iiskvWpRNNg"
      }
    },
    {
      "cell_type": "markdown",
      "source": [
        "Now let's collect the results (sample proportions) of doing the above sampling 50 times, and create a histogram. This gives us an idea of the variability in sample proportions, even though the underlying population proportion is 40% . Click the arrow below to create the histogram of 50 sample proportions. You can click it a few times and create a new histogram each time. You are seeing sampling variability in action!"
      ],
      "metadata": {
        "id": "Pv2nViWXLzHX"
      }
    },
    {
      "cell_type": "code",
      "source": [
        "\n",
        "x = np.zeros((50, 20))\n",
        "for i in range(50):    \n",
        "    x[i] = bernoulli.rvs(p=0.40, size=20)\n",
        "\n",
        "#We can plot our simulations using a histogram.\n",
        "#print(x)\n",
        "sns.histplot(np.mean(x, axis=1), binwidth=0.05, stat='probability')\n",
        "plt.show()"
      ],
      "metadata": {
        "colab": {
          "base_uri": "https://localhost:8080/",
          "height": 265
        },
        "id": "NEh8KgWqFvME",
        "outputId": "155bfb32-b462-47f1-ac08-00878a90cbe8"
      },
      "execution_count": 4,
      "outputs": [
        {
          "output_type": "display_data",
          "data": {
            "text/plain": [
              "<Figure size 432x288 with 1 Axes>"
            ],
            "image/png": "[encoded data removed]"
          },
          "metadata": {
            "needs_background": "light"
          }
        }
      ]
    },
    {
      "cell_type": "code",
      "source": [],
      "metadata": {
        "id": "mXI6TsXKOePC"
      },
      "execution_count": null,
      "outputs": []
    },
    {
      "cell_type": "markdown",
      "source": [
        "Some questions for you (for one histogram):\n",
        "1) What is the range of sample proportions you observed?\n"
      ],
      "metadata": {
        "id": "FpcDJNRtSE9v"
      }
    },
    {
      "cell_type": "markdown",
      "source": [
        "Enter your answer in this box (double click to edit, click outside to exit box)"
      ],
      "metadata": {
        "id": "e3SnP10udpNt"
      }
    },
    {
      "cell_type": "markdown",
      "source": [
        " 2) What was the underlying population proportion?\n"
      ],
      "metadata": {
        "id": "-3_CJXAsdXyM"
      }
    },
    {
      "cell_type": "markdown",
      "source": [
        "Enter your answer in this box (double click to edit, click outside to exit box)"
      ],
      "metadata": {
        "id": "pDVvYTaad1th"
      }
    },
    {
      "cell_type": "markdown",
      "source": [
        "Run the cell above again. \n",
        "3) Why does the histogram look different? Welcome to the world of simulation."
      ],
      "metadata": {
        "id": "Vh1u6kkydzYC"
      }
    },
    {
      "cell_type": "markdown",
      "source": [
        "Enter your answer in this box (double click to edit, click outside to exit box)\n"
      ],
      "metadata": {
        "id": "3KnKH-AHeBA-"
      }
    },
    {
      "cell_type": "markdown",
      "source": [
        "# Now do the same thing but with COVID data"
      ],
      "metadata": {
        "id": "VEt5xJDmNGf8"
      }
    },
    {
      "cell_type": "code",
      "source": [
        "Image(url= \"https://github.com/mattbertens/Stats/blob/main/COVID%20image.jpg?raw=true\", width=550, height=300)"
      ],
      "metadata": {
        "colab": {
          "base_uri": "https://localhost:8080/",
          "height": 321
        },
        "id": "1eVzhG5YSUh5",
        "outputId": "7d09390e-6d53-4321-f028-7dc47e992627"
      },
      "execution_count": null,
      "outputs": [
        {
          "output_type": "execute_result",
          "data": {
            "text/html": [
              "<img src=\"https://github.com/mattbertens/Stats/blob/main/COVID%20image.jpg?raw=true\" width=\"550\" height=\"300\"/>"
            ],
            "text/plain": [
              "<IPython.core.display.Image object>"
            ]
          },
          "metadata": {},
          "execution_count": 4
        }
      ]
    },
    {
      "cell_type": "code",
      "source": [
        "# read the COVID datafile\n",
        "data = pd.read_csv(\"https://raw.githubusercontent.com/mattbertens/Stats/main/COVID%20by%20country.csv\") \n"
      ],
      "metadata": {
        "id": "NKmvcrvwMane"
      },
      "execution_count": 5,
      "outputs": []
    },
    {
      "cell_type": "code",
      "source": [
        "data"
      ],
      "metadata": {
        "colab": {
          "base_uri": "https://localhost:8080/",
          "height": 537
        },
        "id": "KiF10r8gMnoq",
        "outputId": "731698b8-700c-4393-ac82-d6c5c66f91e6"
      },
      "execution_count": 6,
      "outputs": [
        {
          "output_type": "execute_result",
          "data": {
            "text/plain": [
              "    iso code continent           location  total cases  total deaths  \\\n",
              "0        AFG      Asia        Afghanistan       158084        7356.0   \n",
              "1        ALB    Europe            Albania       210224        3217.0   \n",
              "2        DZA    Africa            Algeria       218432        6276.0   \n",
              "3        AND    Europe            Andorra        23740         140.0   \n",
              "4        AGO    Africa             Angola        81593        1770.0   \n",
              "..       ...       ...                ...          ...           ...   \n",
              "210      VNM      Asia            Vietnam      1731257       32394.0   \n",
              "211      WLF   Oceania  Wallis and Futuna          454           7.0   \n",
              "212      YEM      Asia              Yemen        10126        1984.0   \n",
              "213      ZMB    Africa             Zambia       254274        3734.0   \n",
              "214      ZWE    Africa           Zimbabwe       213258        5004.0   \n",
              "\n",
              "     total cases per million  total deaths per million  death rate  \\\n",
              "0                       3968                     185.0       0.047   \n",
              "1                      73174                    1120.0       0.015   \n",
              "2                       4896                     141.0       0.029   \n",
              "3                     306901                    1810.0       0.006   \n",
              "4                       2404                      52.0       0.022   \n",
              "..                       ...                       ...         ...   \n",
              "210                    17636                     330.0       0.019   \n",
              "211                    40923                     631.0       0.015   \n",
              "212                      332                      65.0       0.196   \n",
              "213                    13439                     197.0       0.015   \n",
              "214                    14130                     332.0       0.023   \n",
              "\n",
              "     population  infection rate  median age  aged 65 older  gdp per capita  \\\n",
              "0      39835428           0.004        18.6            2.6          1804.0   \n",
              "1       2872934           0.073        38.0           13.2         11803.4   \n",
              "2      44616626           0.005        29.1            6.2         13913.8   \n",
              "3         77354           0.307         NaN            NaN             NaN   \n",
              "4      33933611           0.002        16.8            2.4          5819.5   \n",
              "..          ...             ...         ...            ...             ...   \n",
              "210    98168829           0.018        32.6            7.2          6171.9   \n",
              "211       11094           0.041         NaN            NaN             NaN   \n",
              "212    30490639           0.000        20.3            2.9          1479.1   \n",
              "213    18920657           0.013        17.7            2.5          3689.3   \n",
              "214    15092171           0.014        19.6            2.8          1899.8   \n",
              "\n",
              "     handwashing facilities  hospital beds per thousand  life expectancy  \n",
              "0                      37.7                         0.5             64.8  \n",
              "1                       NaN                         2.9             78.6  \n",
              "2                      83.7                         1.9             76.9  \n",
              "3                       NaN                         NaN             83.7  \n",
              "4                      26.7                         NaN             61.2  \n",
              "..                      ...                         ...              ...  \n",
              "210                    85.8                         2.6             75.4  \n",
              "211                     NaN                         NaN             79.9  \n",
              "212                    49.5                         0.7             66.1  \n",
              "213                    13.9                         2.0             63.9  \n",
              "214                    36.8                         1.7             61.5  \n",
              "\n",
              "[215 rows x 16 columns]"
            ],
            "text/html": [
              "\n",
              "  <div id=\"df-bbbd4dd5-461c-4740-a3c0-1101dfacfada\">\n",
              "    <div class=\"colab-df-container\">\n",
              "      <div>\n",
              "<style scoped>\n",
              "    .dataframe tbody tr th:only-of-type {\n",
              "        vertical-align: middle;\n",
              "    }\n",
              "\n",
              "    .dataframe tbody tr th {\n",
              "        vertical-align: top;\n",
              "    }\n",
              "\n",
              "    .dataframe thead th {\n",
              "        text-align: right;\n",
              "    }\n",
              "</style>\n",
              "<table border=\"1\" class=\"dataframe\">\n",
              "  <thead>\n",
              "    <tr style=\"text-align: right;\">\n",
              "      <th></th>\n",
              "      <th>iso code</th>\n",
              "      <th>continent</th>\n",
              "      <th>location</th>\n",
              "      <th>total cases</th>\n",
              "      <th>total deaths</th>\n",
              "      <th>total cases per million</th>\n",
              "      <th>total deaths per million</th>\n",
              "      <th>death rate</th>\n",
              "      <th>population</th>\n",
              "      <th>infection rate</th>\n",
              "      <th>median age</th>\n",
              "      <th>aged 65 older</th>\n",
              "      <th>gdp per capita</th>\n",
              "      <th>handwashing facilities</th>\n",
              "      <th>hospital beds per thousand</th>\n",
              "      <th>life expectancy</th>\n",
              "    </tr>\n",
              "  </thead>\n",
              "  <tbody>\n",
              "    <tr>\n",
              "      <th>0</th>\n",
              "      <td>AFG</td>\n",
              "      <td>Asia</td>\n",
              "      <td>Afghanistan</td>\n",
              "      <td>158084</td>\n",
              "      <td>7356.0</td>\n",
              "      <td>3968</td>\n",
              "      <td>185.0</td>\n",
              "      <td>0.047</td>\n",
              "      <td>39835428</td>\n",
              "      <td>0.004</td>\n",
              "      <td>18.6</td>\n",
              "      <td>2.6</td>\n",
              "      <td>1804.0</td>\n",
              "      <td>37.7</td>\n",
              "      <td>0.5</td>\n",
              "      <td>64.8</td>\n",
              "    </tr>\n",
              "    <tr>\n",
              "      <th>1</th>\n",
              "      <td>ALB</td>\n",
              "      <td>Europe</td>\n",
              "      <td>Albania</td>\n",
              "      <td>210224</td>\n",
              "      <td>3217.0</td>\n",
              "      <td>73174</td>\n",
              "      <td>1120.0</td>\n",
              "      <td>0.015</td>\n",
              "      <td>2872934</td>\n",
              "      <td>0.073</td>\n",
              "      <td>38.0</td>\n",
              "      <td>13.2</td>\n",
              "      <td>11803.4</td>\n",
              "      <td>NaN</td>\n",
              "      <td>2.9</td>\n",
              "      <td>78.6</td>\n",
              "    </tr>\n",
              "    <tr>\n",
              "      <th>2</th>\n",
              "      <td>DZA</td>\n",
              "      <td>Africa</td>\n",
              "      <td>Algeria</td>\n",
              "      <td>218432</td>\n",
              "      <td>6276.0</td>\n",
              "      <td>4896</td>\n",
              "      <td>141.0</td>\n",
              "      <td>0.029</td>\n",
              "      <td>44616626</td>\n",
              "      <td>0.005</td>\n",
              "      <td>29.1</td>\n",
              "      <td>6.2</td>\n",
              "      <td>13913.8</td>\n",
              "      <td>83.7</td>\n",
              "      <td>1.9</td>\n",
              "      <td>76.9</td>\n",
              "    </tr>\n",
              "    <tr>\n",
              "      <th>3</th>\n",
              "      <td>AND</td>\n",
              "      <td>Europe</td>\n",
              "      <td>Andorra</td>\n",
              "      <td>23740</td>\n",
              "      <td>140.0</td>\n",
              "      <td>306901</td>\n",
              "      <td>1810.0</td>\n",
              "      <td>0.006</td>\n",
              "      <td>77354</td>\n",
              "      <td>0.307</td>\n",
              "      <td>NaN</td>\n",
              "      <td>NaN</td>\n",
              "      <td>NaN</td>\n",
              "      <td>NaN</td>\n",
              "      <td>NaN</td>\n",
              "      <td>83.7</td>\n",
              "    </tr>\n",
              "    <tr>\n",
              "      <th>4</th>\n",
              "      <td>AGO</td>\n",
              "      <td>Africa</td>\n",
              "      <td>Angola</td>\n",
              "      <td>81593</td>\n",
              "      <td>1770.0</td>\n",
              "      <td>2404</td>\n",
              "      <td>52.0</td>\n",
              "      <td>0.022</td>\n",
              "      <td>33933611</td>\n",
              "      <td>0.002</td>\n",
              "      <td>16.8</td>\n",
              "      <td>2.4</td>\n",
              "      <td>5819.5</td>\n",
              "      <td>26.7</td>\n",
              "      <td>NaN</td>\n",
              "      <td>61.2</td>\n",
              "    </tr>\n",
              "    <tr>\n",
              "      <th>...</th>\n",
              "      <td>...</td>\n",
              "      <td>...</td>\n",
              "      <td>...</td>\n",
              "      <td>...</td>\n",
              "      <td>...</td>\n",
              "      <td>...</td>\n",
              "      <td>...</td>\n",
              "      <td>...</td>\n",
              "      <td>...</td>\n",
              "      <td>...</td>\n",
              "      <td>...</td>\n",
              "      <td>...</td>\n",
              "      <td>...</td>\n",
              "      <td>...</td>\n",
              "      <td>...</td>\n",
              "      <td>...</td>\n",
              "    </tr>\n",
              "    <tr>\n",
              "      <th>210</th>\n",
              "      <td>VNM</td>\n",
              "      <td>Asia</td>\n",
              "      <td>Vietnam</td>\n",
              "      <td>1731257</td>\n",
              "      <td>32394.0</td>\n",
              "      <td>17636</td>\n",
              "      <td>330.0</td>\n",
              "      <td>0.019</td>\n",
              "      <td>98168829</td>\n",
              "      <td>0.018</td>\n",
              "      <td>32.6</td>\n",
              "      <td>7.2</td>\n",
              "      <td>6171.9</td>\n",
              "      <td>85.8</td>\n",
              "      <td>2.6</td>\n",
              "      <td>75.4</td>\n",
              "    </tr>\n",
              "    <tr>\n",
              "      <th>211</th>\n",
              "      <td>WLF</td>\n",
              "      <td>Oceania</td>\n",
              "      <td>Wallis and Futuna</td>\n",
              "      <td>454</td>\n",
              "      <td>7.0</td>\n",
              "      <td>40923</td>\n",
              "      <td>631.0</td>\n",
              "      <td>0.015</td>\n",
              "      <td>11094</td>\n",
              "      <td>0.041</td>\n",
              "      <td>NaN</td>\n",
              "      <td>NaN</td>\n",
              "      <td>NaN</td>\n",
              "      <td>NaN</td>\n",
              "      <td>NaN</td>\n",
              "      <td>79.9</td>\n",
              "    </tr>\n",
              "    <tr>\n",
              "      <th>212</th>\n",
              "      <td>YEM</td>\n",
              "      <td>Asia</td>\n",
              "      <td>Yemen</td>\n",
              "      <td>10126</td>\n",
              "      <td>1984.0</td>\n",
              "      <td>332</td>\n",
              "      <td>65.0</td>\n",
              "      <td>0.196</td>\n",
              "      <td>30490639</td>\n",
              "      <td>0.000</td>\n",
              "      <td>20.3</td>\n",
              "      <td>2.9</td>\n",
              "      <td>1479.1</td>\n",
              "      <td>49.5</td>\n",
              "      <td>0.7</td>\n",
              "      <td>66.1</td>\n",
              "    </tr>\n",
              "    <tr>\n",
              "      <th>213</th>\n",
              "      <td>ZMB</td>\n",
              "      <td>Africa</td>\n",
              "      <td>Zambia</td>\n",
              "      <td>254274</td>\n",
              "      <td>3734.0</td>\n",
              "      <td>13439</td>\n",
              "      <td>197.0</td>\n",
              "      <td>0.015</td>\n",
              "      <td>18920657</td>\n",
              "      <td>0.013</td>\n",
              "      <td>17.7</td>\n",
              "      <td>2.5</td>\n",
              "      <td>3689.3</td>\n",
              "      <td>13.9</td>\n",
              "      <td>2.0</td>\n",
              "      <td>63.9</td>\n",
              "    </tr>\n",
              "    <tr>\n",
              "      <th>214</th>\n",
              "      <td>ZWE</td>\n",
              "      <td>Africa</td>\n",
              "      <td>Zimbabwe</td>\n",
              "      <td>213258</td>\n",
              "      <td>5004.0</td>\n",
              "      <td>14130</td>\n",
              "      <td>332.0</td>\n",
              "      <td>0.023</td>\n",
              "      <td>15092171</td>\n",
              "      <td>0.014</td>\n",
              "      <td>19.6</td>\n",
              "      <td>2.8</td>\n",
              "      <td>1899.8</td>\n",
              "      <td>36.8</td>\n",
              "      <td>1.7</td>\n",
              "      <td>61.5</td>\n",
              "    </tr>\n",
              "  </tbody>\n",
              "</table>\n",
              "<p>215 rows × 16 columns</p>\n",
              "</div>\n",
              "      <button class=\"colab-df-convert\" onclick=\"convertToInteractive('df-bbbd4dd5-461c-4740-a3c0-1101dfacfada')\"\n",
              "              title=\"Convert this dataframe to an interactive table.\"\n",
              "              style=\"display:none;\">\n",
              "        \n",
              "  <svg xmlns=\"http://www.w3.org/2000/svg\" height=\"24px\"viewBox=\"0 0 24 24\"\n",
              "       width=\"24px\">\n",
              "    <path d=\"M0 0h24v24H0V0z\" fill=\"none\"/>\n",
              "    <path d=\"M18.56 5.44l.94 2.06.94-2.06 2.06-.94-2.06-.94-.94-2.06-.94 2.06-2.06.94zm-11 1L8.5 8.5l.94-2.06 2.06-.94-2.06-.94L8.5 2.5l-.94 2.06-2.06.94zm10 10l.94 2.06.94-2.06 2.06-.94-2.06-.94-.94-2.06-.94 2.06-2.06.94z\"/><path d=\"M17.41 7.96l-1.37-1.37c-.4-.4-.92-.59-1.43-.59-.52 0-1.04.2-1.43.59L10.3 9.45l-7.72 7.72c-.78.78-.78 2.05 0 2.83L4 21.41c.39.39.9.59 1.41.59.51 0 1.02-.2 1.41-.59l7.78-7.78 2.81-2.81c.8-.78.8-2.07 0-2.86zM5.41 20L4 18.59l7.72-7.72 1.47 1.35L5.41 20z\"/>\n",
              "  </svg>\n",
              "      </button>\n",
              "      \n",
              "  <style>\n",
              "    .colab-df-container {\n",
              "      display:flex;\n",
              "      flex-wrap:wrap;\n",
              "      gap: 12px;\n",
              "    }\n",
              "\n",
              "    .colab-df-convert {\n",
              "      background-color: #E8F0FE;\n",
              "      border: none;\n",
              "      border-radius: 50%;\n",
              "      cursor: pointer;\n",
              "      display: none;\n",
              "      fill: #1967D2;\n",
              "      height: 32px;\n",
              "      padding: 0 0 0 0;\n",
              "      width: 32px;\n",
              "    }\n",
              "\n",
              "    .colab-df-convert:hover {\n",
              "      background-color: #E2EBFA;\n",
              "      box-shadow: 0px 1px 2px rgba(60, 64, 67, 0.3), 0px 1px 3px 1px rgba(60, 64, 67, 0.15);\n",
              "      fill: #174EA6;\n",
              "    }\n",
              "\n",
              "    [theme=dark] .colab-df-convert {\n",
              "      background-color: #3B4455;\n",
              "      fill: #D2E3FC;\n",
              "    }\n",
              "\n",
              "    [theme=dark] .colab-df-convert:hover {\n",
              "      background-color: #434B5C;\n",
              "      box-shadow: 0px 1px 3px 1px rgba(0, 0, 0, 0.15);\n",
              "      filter: drop-shadow(0px 1px 2px rgba(0, 0, 0, 0.3));\n",
              "      fill: #FFFFFF;\n",
              "    }\n",
              "  </style>\n",
              "\n",
              "      <script>\n",
              "        const buttonEl =\n",
              "          document.querySelector('#df-bbbd4dd5-461c-4740-a3c0-1101dfacfada button.colab-df-convert');\n",
              "        buttonEl.style.display =\n",
              "          google.colab.kernel.accessAllowed ? 'block' : 'none';\n",
              "\n",
              "        async function convertToInteractive(key) {\n",
              "          const element = document.querySelector('#df-bbbd4dd5-461c-4740-a3c0-1101dfacfada');\n",
              "          const dataTable =\n",
              "            await google.colab.kernel.invokeFunction('convertToInteractive',\n",
              "                                                     [key], {});\n",
              "          if (!dataTable) return;\n",
              "\n",
              "          const docLinkHtml = 'Like what you see? Visit the ' +\n",
              "            '<a target=\"_blank\" href=https://colab.research.google.com/notebooks/data_table.ipynb>data table notebook</a>'\n",
              "            + ' to learn more about interactive tables.';\n",
              "          element.innerHTML = '';\n",
              "          dataTable['output_type'] = 'display_data';\n",
              "          await google.colab.output.renderOutput(dataTable, element);\n",
              "          const docLink = document.createElement('div');\n",
              "          docLink.innerHTML = docLinkHtml;\n",
              "          element.appendChild(docLink);\n",
              "        }\n",
              "      </script>\n",
              "    </div>\n",
              "  </div>\n",
              "  "
            ]
          },
          "metadata": {},
          "execution_count": 6
        }
      ]
    },
    {
      "cell_type": "markdown",
      "source": [
        "We'll plot a histogram of the infection rates for all countries in this dataset (215 countries). Then we'll randomly sample 30 countries at a time, calculate the mean infection rate in that sample, and then repeat that sampling process 500 times. Finally the histogram of those sample means is our sampling distribution.\n",
        "The underlying population proportion p=0.066, as shown below.   \n",
        "Note that np = 30(0.066)=1.98, so we don't expect the sampling distribution to be normal."
      ],
      "metadata": {
        "id": "05hQgxk7PVKC"
      }
    },
    {
      "cell_type": "code",
      "source": [
        "data['infection rate']"
      ],
      "metadata": {
        "colab": {
          "base_uri": "https://localhost:8080/"
        },
        "id": "l_OdWiCNMn4C",
        "outputId": "3545a442-1793-47e4-cb71-c3d650810bb2"
      },
      "execution_count": null,
      "outputs": [
        {
          "output_type": "execute_result",
          "data": {
            "text/plain": [
              "0      0.004\n",
              "1      0.073\n",
              "2      0.005\n",
              "3      0.307\n",
              "4      0.002\n",
              "       ...  \n",
              "210    0.018\n",
              "211    0.041\n",
              "212    0.000\n",
              "213    0.013\n",
              "214    0.014\n",
              "Name: infection rate, Length: 215, dtype: float64"
            ]
          },
          "metadata": {},
          "execution_count": 7
        }
      ]
    },
    {
      "cell_type": "code",
      "source": [
        "#the distribution of infection rates (from all the countries) is heavily skewed right\n",
        "sns.histplot(data['infection rate'])\n",
        "plt.show()"
      ],
      "metadata": {
        "colab": {
          "base_uri": "https://localhost:8080/",
          "height": 279
        },
        "id": "FNzVsaQ5NSay",
        "outputId": "bd6d834f-2dea-4714-a450-877f41a7c583"
      },
      "execution_count": null,
      "outputs": [
        {
          "output_type": "display_data",
          "data": {
            "text/plain": [
              "<Figure size 432x288 with 1 Axes>"
            ],
            "image/png": "[encoded data removed]"
          },
          "metadata": {
            "needs_background": "light"
          }
        }
      ]
    },
    {
      "cell_type": "markdown",
      "source": [
        "Notice how skewed the above population of infection rates is. When we sample from that population and then plot the sample proportions to create the sampling distribution, and interesting question is 'how does the skewedness of the underlying population affect the shape of the sampling distribution?' The answer to this important question is 'it depends.' It depends on the underlying poulation proportion (in this case the mean infection rate of all the countries) as well as the sample size. Let's explore these. "
      ],
      "metadata": {
        "id": "5987EYXTCaUB"
      }
    },
    {
      "cell_type": "code",
      "source": [
        "# The mean infection rate is straight forward.\n",
        "mean_infect_rate=data['infection rate'].mean()\n",
        "print('The mean infection rate is:', mean_infect_rate)"
      ],
      "metadata": {
        "colab": {
          "base_uri": "https://localhost:8080/"
        },
        "id": "FTGGKkvuMoDl",
        "outputId": "e0fc0474-03d4-40d3-919b-169f03965bcb"
      },
      "execution_count": 7,
      "outputs": [
        {
          "output_type": "stream",
          "name": "stdout",
          "text": [
            "The mean infection rate is: 0.06586046511627908\n"
          ]
        }
      ]
    },
    {
      "cell_type": "markdown",
      "source": [
        "Now that we know the mean infection, let's explore how sample size affects the shape of the sampling distribution. We'll start with a sample size of 30, take a look at the sampling distribution (or, technically, a good approximation to it), and then we'll increase the sample size to 150, and see how the sampling distribution changes. "
      ],
      "metadata": {
        "id": "iOcXY7_2DNpx"
      }
    },
    {
      "cell_type": "code",
      "source": [
        "#randomly sampling 30 nations infection rate and taking the sample mean, 500 times\n",
        "x = np.zeros((500, 30))\n",
        "for i in range(500):    \n",
        "    x[i] = bernoulli.rvs(p=mean_infect_rate, size=30)\n",
        "\n",
        "#We can plot our simulations using a histogram.\n",
        "sns.histplot(np.mean(x, axis=1), binwidth=0.03, stat='probability')\n",
        "plt.show()"
      ],
      "metadata": {
        "colab": {
          "base_uri": "https://localhost:8080/",
          "height": 265
        },
        "id": "ohKyXZOxNSR1",
        "outputId": "376ae265-cce1-4004-940e-4211604f6c4c"
      },
      "execution_count": 11,
      "outputs": [
        {
          "output_type": "display_data",
          "data": {
            "text/plain": [
              "<Figure size 432x288 with 1 Axes>"
            ],
            "image/png": "[encoded data removed]"
          },
          "metadata": {
            "needs_background": "light"
          }
        }
      ]
    },
    {
      "cell_type": "markdown",
      "source": [
        "Still skewed, but maybe not as skewed as the underlying population. Notice the mean is approximately 6.6%, the population proportion. What is the spread in the observed sample proportions (what is the range of sample proportions we got, approximately)? \n",
        "Now what happens when we run it again, but now with sample size 150?"
      ],
      "metadata": {
        "id": "cG8fysShDznF"
      }
    },
    {
      "cell_type": "code",
      "source": [
        "#randomly sampling 30 nations infection rate and taking the sample mean, 500 times\n",
        "x = np.zeros((500, 150))\n",
        "for i in range(500):    \n",
        "    x[i] = bernoulli.rvs(p=mean_infect_rate, size=150)\n",
        "\n",
        "#We can plot our simulations using a histogram.\n",
        "sns.histplot(np.mean(x, axis=1), binwidth=0.01, stat='probability')\n",
        "plt.show()"
      ],
      "metadata": {
        "id": "5K4gT7vbNSh0",
        "colab": {
          "base_uri": "https://localhost:8080/",
          "height": 265
        },
        "outputId": "044292c3-eb8b-43d3-f60b-175f30501740"
      },
      "execution_count": 9,
      "outputs": [
        {
          "output_type": "display_data",
          "data": {
            "text/plain": [
              "<Figure size 432x288 with 1 Axes>"
            ],
            "image/png": "[encoded data removed]"
          },
          "metadata": {
            "needs_background": "light"
          }
        }
      ]
    },
    {
      "cell_type": "markdown",
      "source": [
        "Interesting. Notice the mean is, again, approximately 6.6%, the population proportion. Is the spread in observed sample proportions larger or smaller than what we got when the sample size was only 30? Also notice this sampling distribution is much more normal shaped than the previous one. Why?\n",
        "Calculate np and n(1-p), first for when n=30 and then for when n=150. What did you get? A rule of thumb is that we expect the sampling dsitribution to be approximately normal when **both** np and n(1-p) are at least 10."
      ],
      "metadata": {
        "id": "ffVgdu25EM2s"
      }
    },
    {
      "cell_type": "code",
      "source": [],
      "metadata": {
        "id": "2bgRGbv6FPop"
      },
      "execution_count": null,
      "outputs": []
    },
    {
      "cell_type": "code",
      "source": [],
      "metadata": {
        "id": "ZFmRvg16FMDz"
      },
      "execution_count": null,
      "outputs": []
    }
  ]
}