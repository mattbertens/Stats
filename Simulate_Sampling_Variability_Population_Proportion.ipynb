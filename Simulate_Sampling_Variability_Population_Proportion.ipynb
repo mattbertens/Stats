{
  "nbformat": 4,
  "nbformat_minor": 0,
  "metadata": {
    "colab": {
      "provenance": [],
      "authorship_tag": "ABX9TyNCtBV98t+3CtpO7BOw+nG+",
      "include_colab_link": true
    },
    "kernelspec": {
      "name": "python3",
      "display_name": "Python 3"
    },
    "language_info": {
      "name": "python"
    }
  },
  "cells": [
    {
      "cell_type": "markdown",
      "metadata": {
        "id": "view-in-github",
        "colab_type": "text"
      },
      "source": [
        "<a href=\"https://colab.research.google.com/github/mattbertens/Stats/blob/main/Simulate_Sampling_Variability_Population_Proportion.ipynb\" target=\"_parent\"><img src=\"https://colab.research.google.com/assets/colab-badge.svg\" alt=\"Open In Colab\"/></a>"
      ]
    },
    {
      "cell_type": "markdown",
      "source": [
        "Module by Matt Bertens\n"
      ],
      "metadata": {
        "id": "oxOIxMDGkhax"
      }
    },
    {
      "cell_type": "markdown",
      "source": [
        "**Important!** Any changes you make to this won't be saved. To make changes that will be saved, select 'File', then 'Save a Copy in Drive'. You will be able to make changes to that copy you just created. "
      ],
      "metadata": {
        "id": "HIRN6rycuLJl"
      }
    },
    {
      "cell_type": "markdown",
      "source": [
        "What does sampling variability look like?\n",
        "In this notebook we'll look at 50 samples of size 20 taken from a population where the population proportion is 40% (p=0.40) .\n",
        "To begin we need to load some Python programs. Click the arrow in the brackets in the cell below to run it (hover your cursor over it and an arrow will magically appear). After you click the arrow, it runs and then a green check mark will appear when finished."
      ],
      "metadata": {
        "id": "q4XGWJIUOxM5"
      }
    },
    {
      "cell_type": "code",
      "execution_count": 13,
      "metadata": {
        "id": "UlA1V7KeFpqZ"
      },
      "outputs": [],
      "source": [
        "from scipy.stats import bernoulli\n",
        "import matplotlib.pyplot as plt\n",
        "import numpy as np\n",
        "import pandas as pd\n",
        "import seaborn as sns\n",
        "import IPython.display\n",
        "from IPython.display import Image"
      ]
    },
    {
      "cell_type": "markdown",
      "source": [
        "Click the below arrow to find one random sample proportion taken from a population with proportion 40% . Let's say we have a measure on a ballot where it is known that 40% of the population support it. Below we'll take a random sample of size 20 (20 people) from that population and see what percentage (what proportion) of those people support the ballot measure. An entry of '1' means that person voted in favor and an entry of '0' means that person voted against."
      ],
      "metadata": {
        "id": "Vgr1grEDP7e0"
      }
    },
    {
      "cell_type": "code",
      "source": [
        "# Introduction to bernoulli function, which give an array of 1's and 0's with a specified odds of getting 1 (0.4 below)\n",
        "# like polling 20 people, 1 for yes and 0 for no. \n",
        "y=bernoulli.rvs(p=0.4, size=20)\n",
        "print('Here are the results of the 20 people surveyed (with 1 for yes and 0 for no):', y)\n",
        "# to get % of yes (sample proportion) count number of yesses which is the same as summing the array since only 1's and 0's, then divide by 20\n",
        "print('sample proportion (proportion of yesses in sample) is:', (sum(y)/20))\n",
        "print('population proportion (proportion of yesses in population) is: 0.40')"
      ],
      "metadata": {
        "colab": {
          "base_uri": "https://localhost:8080/"
        },
        "id": "DaHUcCCiFvJE",
        "outputId": "cee6263a-f3c6-4d75-ffa9-1a1781c20968"
      },
      "execution_count": 14,
      "outputs": [
        {
          "output_type": "stream",
          "name": "stdout",
          "text": [
            "Here are the results of the 20 people surveyed (with 1 for yes and 0 for no): [0 0 1 0 1 0 0 0 0 0 0 0 0 0 0 0 1 0 0 1]\n",
            "sample proportion (proportion of yesses in sample) is: 0.2\n",
            "population proportion (proportion of yesses in population) is: 0.40\n"
          ]
        }
      ]
    },
    {
      "cell_type": "markdown",
      "source": [
        "How close was the sample proportion to the underlying population proportion, which was 40%? Run the above a few more times, to get an idea of the sampling variability that arises."
      ],
      "metadata": {
        "id": "3iiskvWpRNNg"
      }
    },
    {
      "cell_type": "markdown",
      "source": [
        "Now let's collect the results (sample proportions) of doing the above sampling 50 times, and create a histogram. This gives us an idea of the variability in sample proportions, even though the underlying population proportion is 40% . Click the arrow below to create the histogram of 50 sample proportions. You can click it a few times and create a new histogram each time. You are seeing sampling variability in action!"
      ],
      "metadata": {
        "id": "Pv2nViWXLzHX"
      }
    },
    {
      "cell_type": "code",
      "source": [
        "\n",
        "x = np.zeros((50, 20))\n",
        "for i in range(50):    \n",
        "    x[i] = bernoulli.rvs(p=0.40, size=20)\n",
        "\n",
        "#We can plot our simulations using a histogram.\n",
        "#print(x)\n",
        "sns.histplot(np.mean(x, axis=1), binwidth=0.05, stat='probability')\n",
        "plt.show()"
      ],
      "metadata": {
        "colab": {
          "base_uri": "https://localhost:8080/",
          "height": 265
        },
        "id": "NEh8KgWqFvME",
        "outputId": "d5e95e6c-11fb-4bc2-b14e-e2548096306e"
      },
      "execution_count": 15,
      "outputs": [
        {
          "output_type": "display_data",
          "data": {
            "text/plain": [
              "<Figure size 432x288 with 1 Axes>"
            ],
            "image/png": "[encoded data removed]"
          },
          "metadata": {
            "needs_background": "light"
          }
        }
      ]
    },
    {
      "cell_type": "code",
      "source": [],
      "metadata": {
        "id": "mXI6TsXKOePC"
      },
      "execution_count": 15,
      "outputs": []
    },
    {
      "cell_type": "markdown",
      "source": [
        "Some questions for you (for one histogram):\n",
        "1) What is the range of sample proportions you observed?\n"
      ],
      "metadata": {
        "id": "FpcDJNRtSE9v"
      }
    },
    {
      "cell_type": "markdown",
      "source": [
        "Enter your answer in this box (double click to edit, click outside to exit box)"
      ],
      "metadata": {
        "id": "e3SnP10udpNt"
      }
    },
    {
      "cell_type": "markdown",
      "source": [
        " 2) What was the underlying population proportion?\n"
      ],
      "metadata": {
        "id": "-3_CJXAsdXyM"
      }
    },
    {
      "cell_type": "markdown",
      "source": [
        "Enter your answer in this box (double click to edit, click outside to exit box)"
      ],
      "metadata": {
        "id": "pDVvYTaad1th"
      }
    },
    {
      "cell_type": "markdown",
      "source": [
        "Run the cell above again. \n",
        "3) Why does the histogram look different? Welcome to the world of simulation."
      ],
      "metadata": {
        "id": "Vh1u6kkydzYC"
      }
    }
  ]
}